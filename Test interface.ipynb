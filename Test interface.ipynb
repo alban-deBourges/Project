{
 "cells": [
  {
   "cell_type": "code",
   "execution_count": 1,
   "metadata": {},
   "outputs": [
    {
     "name": "stdout",
     "output_type": "stream",
     "text": [
      "pygame 1.9.6\n",
      "Hello from the pygame community. https://www.pygame.org/contribute.html\n",
      "fin\n"
     ]
    }
   ],
   "source": [
    "import pygame\n",
    "import math\n",
    "pygame.init()\n",
    "win = pygame.display.set_mode((1000,1000))\n",
    "pygame.display.set_caption(\"Le mini-golf de l'enfer\")\n",
    "vitesse = [10.,5,2,10,13]\n",
    "angle = [30,180,270,90,160]\n",
    "x_trou = 100\n",
    "y_trou = 100\n",
    "x =500\n",
    "y=600\n",
    "vel = 10\n",
    "\n",
    "win.fill((0,128,0))\n",
    "pygame.draw.circle(win, (250,250,250), (x,y), 10) \n",
    "pygame.draw.circle(win, (0,0,0), (x_trou,y_trou), 20) \n",
    "pygame.display.update()\n",
    "run = True\n",
    "while run :\n",
    "    pygame.time.delay(30)\n",
    "    \n",
    "    for event in pygame.event.get():\n",
    "        if event.type == pygame.QUIT:\n",
    "            run = False\n",
    "            \n",
    "    keys = pygame.key.get_pressed()\n",
    "  \n",
    "    win.fill((0,128,0))\n",
    "    pygame.draw.circle(win, (0,0,0), (100,100), 20) \n",
    "    pygame.draw.circle(win, (250,250,250), (int(x),int(y)), 10)\n",
    "    pygame.display.update()\n",
    "    \n",
    "    \n",
    "    if keys[pygame.K_UP] :\n",
    "        for vit,ang in zip(vitesse,angle) :\n",
    "            while vit > 0 :\n",
    "                pygame.time.delay(30)\n",
    "                for event in pygame.event.get():\n",
    "                    if event.type == pygame.QUIT:\n",
    "                        run = False\n",
    "                y -=(vit**2)*0.5*math.sin(ang*math.pi/180)\n",
    "                x +=(vit**2)*0.5*math.cos(ang*math.pi/180)\n",
    "                vit-=1\n",
    "                win.fill((0,128,0))\n",
    "                pygame.draw.circle(win, (0,0,0), (100,100), 20) \n",
    "                pygame.draw.circle(win, (250,250,250), (int(x),int(y)), 10)\n",
    "                pygame.display.update()\n",
    "    vel = 10\n",
    "\n",
    "\n",
    "print(\"fin\")\n",
    "pygame.display.flip()\n",
    "pygame.quit()"
   ]
  },
  {
   "cell_type": "code",
   "execution_count": 21,
   "metadata": {},
   "outputs": [
    {
     "name": "stdout",
     "output_type": "stream",
     "text": [
      "12.0\n",
      "-0.4330127018922193 0.4330127018922193\n"
     ]
    },
    {
     "data": {
      "text/plain": [
       "True"
      ]
     },
     "execution_count": 21,
     "metadata": {},
     "output_type": "execute_result"
    }
   ],
   "source": [
    "import math\n",
    "def intersection(Xc,Yc,r,Xa,Ya,Xb,Yb) :\n",
    "    A = (Xb - Xa)**2 + (Yb - Ya)**2 \n",
    "    B= 2*((Xb-Xa)*(Xa-Xc)+(Yb-Ya)*(Ya-Yc))\n",
    "    C=(Xa-Xc)**2+(Ya-Yc)**2-r**2\n",
    "    delta = B**2-4*A*C\n",
    "    print(delta)\n",
    "    if delta >= 0 :\n",
    "        s1 = (-B-math.sqrt(delta))/(2*A)\n",
    "        s2 = (-B+math.sqrt(delta))/(2*A)\n",
    "        print(s1,s2)\n",
    "        if (0<= s1 <= 1 or 0<= s2 <= 1) :\n",
    "            return True\n",
    "    return False \n",
    "intersection(0,0,1,0.5,0,0.5,-2)"
   ]
  },
  {
   "cell_type": "code",
   "execution_count": null,
   "metadata": {},
   "outputs": [],
   "source": []
  },
  {
   "cell_type": "code",
   "execution_count": null,
   "metadata": {},
   "outputs": [],
   "source": []
  }
 ],
 "metadata": {
  "kernelspec": {
   "display_name": "Python 3",
   "language": "python",
   "name": "python3"
  },
  "language_info": {
   "codemirror_mode": {
    "name": "ipython",
    "version": 3
   },
   "file_extension": ".py",
   "mimetype": "text/x-python",
   "name": "python",
   "nbconvert_exporter": "python",
   "pygments_lexer": "ipython3",
   "version": "3.7.6"
  }
 },
 "nbformat": 4,
 "nbformat_minor": 4
}
