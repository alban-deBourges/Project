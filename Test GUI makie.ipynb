{
 "cells": [
  {
   "cell_type": "code",
   "execution_count": 10,
   "metadata": {},
   "outputs": [],
   "source": []
  },
  {
   "cell_type": "code",
   "execution_count": 2,
   "metadata": {},
   "outputs": [
    {
     "data": {
      "text/plain": [
       "5-element Array{Point{2,Float32},1}:\n",
       " [-165.0, 213.0]\n",
       " [-155.0, 213.0]\n",
       " [-145.0, 213.0]\n",
       " [-135.0, 213.0]\n",
       " [-125.0, 213.0]"
      ]
     },
     "execution_count": 2,
     "metadata": {},
     "output_type": "execute_result"
    }
   ],
   "source": [
    "using Makie\n",
    "\n",
    "res = 500\n",
    "game = Scene(resolution = (res, res))\n",
    "campixel!(game)\n",
    "cell = 10\n",
    "cells = res ÷ 10\n",
    "snakelen = 5\n",
    "middle = cells ÷ 2\n",
    "snakestart = middle - (snakelen ÷ 2)\n",
    "segments = Point2f0.(middle, range(snakestart, step = cell, length = snakelen))\n",
    "snake = scatter!(game, segments, markersize = cell, raw = true, color = :blue)[end]\n",
    "speed = 1/5\n",
    "global last_dir = (0, 1)\n",
    "dir = lift(game.events.keyboardbuttons) do but\n",
    "    global last_dir\n",
    "    ispressed(but, Keyboard.left) && return (last_dir = (-1, 0))\n",
    "    ispressed(but, Keyboard.up) && return (last_dir = (0, 1))\n",
    "    ispressed(but, Keyboard.right) && return (last_dir = (1, 0))\n",
    "    ispressed(but, Keyboard.down) && return (last_dir = (0, -1))\n",
    "    last_dir\n",
    "end\n",
    "display(game)\n",
    "newsnake = copy(segments)\n",
    "while isopen(game)\n",
    "    curr_snake = snake[1][]\n",
    "    circshift!(newsnake, curr_snake, 1)\n",
    "    newsnake[1] = newsnake[2] .+ Point2f0(dir[] .* cell)\n",
    "    snake[1] = newsnake\n",
    "    newsnake = curr_snake\n",
    "    sleep(speed)\n",
    "end\n",
    "segments"
   ]
  },
  {
   "cell_type": "code",
   "execution_count": null,
   "metadata": {},
   "outputs": [],
   "source": []
  },
  {
   "cell_type": "code",
   "execution_count": null,
   "metadata": {},
   "outputs": [],
   "source": []
  }
 ],
 "metadata": {
  "kernelspec": {
   "display_name": "Julia 1.4.1",
   "language": "julia",
   "name": "julia-1.4"
  },
  "language_info": {
   "file_extension": ".jl",
   "mimetype": "application/julia",
   "name": "julia",
   "version": "1.4.1"
  }
 },
 "nbformat": 4,
 "nbformat_minor": 4
}
