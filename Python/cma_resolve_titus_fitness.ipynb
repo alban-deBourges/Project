{
 "cells": [
  {
   "cell_type": "code",
   "execution_count": 19,
   "metadata": {},
   "outputs": [],
   "source": [
    "import matplotlib.pyplot as plt\n",
    "import pygame\n",
    "import numpy as np\n",
    "import random\n",
    "import copy\n",
    "import cma"
   ]
  },
  {
   "cell_type": "code",
   "execution_count": 20,
   "metadata": {},
   "outputs": [
    {
     "name": "stdout",
     "output_type": "stream",
     "text": [
      "[0.0, 0.20943951023931953, 0.41887902047863906, 0.6283185307179586, 0.8377580409572781, 1.0471975511965976, 1.2566370614359172, 1.4660765716752369, 1.6755160819145563, 1.8849555921538759, 2.0943951023931953, 2.3038346126325147, 2.5132741228718345, 2.7227136331111543, 2.9321531433504737, 3.1415926535897927, 3.3510321638291125, 3.5604716740684323, 3.7699111843077517, 3.979350694547071, 4.1887902047863905, 4.39822971502571, 4.607669225265029, 4.817108735504349, 5.026548245743669, 5.235987755982989, 5.445427266222309, 5.654866776461628, 5.8643062867009474, 6.073745796940267]\n"
     ]
    }
   ],
   "source": [
    "##### CONSTANTES\n",
    "k = 30\n",
    "N_in = k + 2 + 2\n",
    "N1 =10\n",
    "N2 = 10\n",
    "N_out = k + 1\n",
    "f = 0.3\n",
    "rb = 1\n",
    "rt = 20\n",
    "m = 1\n",
    "g = 9.81\n",
    "best_distance = 300\n",
    "\n",
    "angles = [i * 2*np.pi/k for i in range(k)]\n",
    "print(angles)\n",
    "\n",
    "ratio_distance = 3.5\n",
    "ratio_angle = 100\n",
    "\n",
    "\n",
    "num_elites = 3\n",
    "nbre_mouvements = 50\n",
    "nb_gen = 20\n",
    "nb_pop = 100\n",
    "mutation_rate = 2/(nbre_mouvements*2)\n",
    "v_max = 10"
   ]
  },
  {
   "cell_type": "code",
   "execution_count": 21,
   "metadata": {
    "collapsed": true
   },
   "outputs": [],
   "source": [
    "###### FONCTIONS UTILES\n",
    "\n",
    "def produitvectoriel(vect1,vect2):\n",
    "    return (vect1[0]*vect2[1] - vect1[1]*vect2[0])\n",
    "\n",
    "def produitscalaire(vect1,vect2):\n",
    "    return(vect1[0]*vect2[0] + vect1[1]*vect2[1])\n",
    "\n",
    "def draw_circle(matrice,i,j,r, colour):\n",
    "    for x in range(len(matrice)):\n",
    "        for y in range(len(matrice[x])):\n",
    "            if abs((x-i)**2 + (y-j)**2) <=r**2:\n",
    "                matrice[x,y] = colour\n",
    "\n",
    "def get_line(start, end):\n",
    "    x1, y1 = start\n",
    "    x2, y2 = end\n",
    "    dx = x2 - x1\n",
    "    dy = y2 - y1\n",
    "    is_steep = abs(dy) > abs(dx)\n",
    "    if is_steep:\n",
    "        x1, y1 = y1, x1\n",
    "        x2, y2 = y2, x2\n",
    "    swapped = False\n",
    "    if x1 > x2:\n",
    "        x1, x2 = x2, x1\n",
    "        y1, y2 = y2, y1\n",
    "        swapped = True\n",
    "    dx = x2 - x1\n",
    "    dy = y2 - y1\n",
    "    error = int(dx / 0.5)\n",
    "    ystep = 1 if y1 < y2 else -1\n",
    "    y = y1\n",
    "    points = []\n",
    "    for x in range(x1, x2 + 1):\n",
    "        coord = (y, x) if is_steep else (x, y)\n",
    "        points.append(coord)\n",
    "        error -= abs(dy)\n",
    "        if error < 0:\n",
    "            y += ystep\n",
    "            error += dx\n",
    "    if swapped:\n",
    "        points.reverse()\n",
    "    return points\n",
    "\n",
    "\n",
    "def draw_segment(matrice, start,end):\n",
    "    points = get_line(start, end)\n",
    "    shape = np.shape(matrice)\n",
    "    for i in points:\n",
    "        if i[0]<shape[0] and i[1] < shape[1]:\n",
    "            matrice[i[0],i[1]] = 0.7"
   ]
  },
  {
   "cell_type": "code",
   "execution_count": 22,
   "metadata": {
    "collapsed": true
   },
   "outputs": [],
   "source": [
    "##### CLASSE JOUEUR\n",
    "class Joueur:  \n",
    "    def __init__(self, array_trou,array_balle,obstacles, nbre_mouvements):\n",
    "        self.is_best = False\n",
    "        self.fitness = 0\n",
    "        self.partie = Partie(array_balle,array_trou,obstacles)\n",
    "        self.liste_mouvements = []\n",
    "        self.liste_emplacements = [array_balle]\n",
    "        self.nn = Simple_nn(N_in,N1,N_out)\n",
    "        for i in range(nbre_mouvements):\n",
    "            v = random.random()*v_max\n",
    "            t = random.random()*2*np.pi\n",
    "            self.liste_mouvements.append([v,t])\n",
    "            \n",
    "    def evaluate_fitness(self):\n",
    "        a = best_distance\n",
    "        distance = np.sqrt((self.partie.trou.position[0] - self.partie.balle.position[0])**2 + (self.partie.trou.position[1] - self.partie.balle.position[1])**2 ) \n",
    "        if self.partie.reached_goal:\n",
    "            print(\"victoire\")\n",
    "            self.fitness = 100000 + 10/(self.partie.nb_coups**2)\n",
    "            print(\"fitness : \"+str(self.fitness))\n",
    "        elif (not self.partie.is_dead): \n",
    "            #print(distance)\n",
    "            self.fitness = 10000000/(distance)**4\n",
    "        else:\n",
    "            self.fitness = -5*distance/self.partie.nb_coups\n",
    "        return float(self.fitness)\n",
    "            \n",
    "        \n",
    "    def faire_partie(self):\n",
    "        self.partie = Partie(array_balle,array_trou,obstacles)\n",
    "        for i in range(150):\n",
    "            #print(0)\n",
    "            if self.partie.reached_goal:\n",
    "                self.evaluate_fitness()\n",
    "                return\n",
    "            if self.partie.is_dead:\n",
    "                self.evaluate_fitness()\n",
    "                #print(self.liste_emplacements)\n",
    "                #print(self.partie.is_dead)\n",
    "                return\n",
    "            else:\n",
    "                #print(1)\n",
    "                \n",
    "             #   print(2)\n",
    "                a = self.partie.distances()\n",
    "                b = np.array([self.partie.balle.position[0],self.partie.balle.position[1],self.partie.trou.position[0],self.partie.trou.position[1]]) \n",
    "              #  print(3)\n",
    "                c = np.concatenate((a, b)).flatten()\n",
    "               # print(4)\n",
    "                y = self.nn.compute(c)\n",
    "                self.liste_mouvements.append(y)\n",
    "                #print(5)\n",
    "                a = self.partie.deplacement(y)\n",
    "                #print(6)\n",
    "                self.liste_emplacements.append([a, self.partie.is_dead])\n",
    "                #print(7)\n",
    "            #print(self.partie.balle.position)\n",
    "       # print(self.partie.is_dead)\n",
    "        #print(self.liste_emplacements)\n",
    "        #print(8)\n",
    "        return\n",
    "        \n",
    "        \n",
    "    \n",
    "                "
   ]
  },
  {
   "cell_type": "code",
   "execution_count": 23,
   "metadata": {
    "collapsed": true
   },
   "outputs": [],
   "source": [
    "###### CLASSE NEURAL NETWORK\n",
    "class Simple_nn:\n",
    "    def __init__(self, N_in, N1,N_out):\n",
    "        self.fitness = 0\n",
    "        self.l1 = np.random.random((N_in,N1))\n",
    "        self.l2 = np.random.random((N1,N2))\n",
    "        self.out = np.random.random((N2,N_out))\n",
    "    \n",
    "    def compute(self,inputs):\n",
    "        x = np.dot(self.l1,np.reshape(inputs,(N_in,1)))\n",
    "        x = np.dot(self.l2, x)\n",
    "        x = np.dot(self.out,x)\n",
    "        #print(x)\n",
    "        x = x/(N_in*N1)\n",
    "        #print(x)\n",
    "        x = x.flatten()\n",
    "        x = np.abs(x)\n",
    "        v = x[0,0]\n",
    "        angle = angles[ np.argmax(x[0,1:]) ]\n",
    "        return ([v, angle])\n",
    "    \n",
    "    def transform(self, genes):\n",
    "        layers = [self.l1.flatten(),self.l2.flatten(),self.out.flatten()]\n",
    "        L = 0\n",
    "        j = 0\n",
    "        for i in range(len(genes)):\n",
    "            if j >= len(layers[L]):\n",
    "                L += 1\n",
    "                j = 0\n",
    "            layers[L][j] = genes[i]\n",
    "            j += 1\n",
    "        self.l1 = np.reshape(np.asmatrix(layers[0]),(N1,N_in))\n",
    "        self.l2 = np.reshape(np.asmatrix(layers[1]),(N2,N1))\n",
    "        self.out = np.reshape(np.asmatrix(layers[2]),(N_out,N2))  "
   ]
  },
  {
   "cell_type": "code",
   "execution_count": 24,
   "metadata": {
    "collapsed": true
   },
   "outputs": [],
   "source": [
    "#### CLASSE SEGMENT\n",
    "\n",
    "class Segment:\n",
    "    def __init__(self,array1,array2):\n",
    "        self.depart = array1\n",
    "        self.arrivee = array2\n",
    "        \n",
    "    def cross(self , segment):\n",
    "        ab = [self.arrivee[0] - self.depart[0] , self.arrivee[1] - self.depart[1]]\n",
    "        apbp = [segment.arrivee[0] - segment.depart[0] , segment.arrivee[1] - segment.depart[1]]\n",
    "        abp = [segment.arrivee[0] - self.depart[0], segment.arrivee[1] - self.depart[1]]\n",
    "        aap = [segment.depart[0] - self.depart[0], segment.depart[1] - self.depart[1] ]\n",
    "        apb = [self.arrivee[0] - segment.depart[0] , self.arrivee[1] - segment.depart[1]]\n",
    "        apa = [self.depart[0] - segment.depart[0] , self.depart[1] - segment.depart[1]]\n",
    "        \n",
    "        c1 = produitvectoriel(ab,apbp) != 0\n",
    "        c2 = (produitvectoriel(ab,abp) * produitvectoriel(ab,aap))<=0\n",
    "        c3 = (produitvectoriel(apbp,apb) * produitvectoriel(apbp,apa))<=0\n",
    "        return(c1 and c2 and c3)"
   ]
  },
  {
   "cell_type": "code",
   "execution_count": 25,
   "metadata": {
    "collapsed": true
   },
   "outputs": [],
   "source": [
    "##### CLASSE TROU\n",
    "\n",
    "class Trou:\n",
    "    def __init__(self, array):\n",
    "        self.position = array.copy()\n",
    " "
   ]
  },
  {
   "cell_type": "code",
   "execution_count": 26,
   "metadata": {
    "collapsed": true
   },
   "outputs": [],
   "source": [
    "##### CLASSE BALLE\n",
    "\n",
    "class Balle:\n",
    "    def __init__(self, array):\n",
    "        self.position = array.copy()"
   ]
  },
  {
   "cell_type": "code",
   "execution_count": 27,
   "metadata": {
    "collapsed": true
   },
   "outputs": [],
   "source": [
    "##### CLASSE PARTIE\n",
    "\n",
    "class Partie:\n",
    "    def __init__(self, arrayballe,arraytrou, obstacles):\n",
    "        self.matrice = np.zeros((800,800),dtype = float)\n",
    "        self.balle = Balle(arrayballe)\n",
    "        self.trou = Trou(arraytrou)\n",
    "        self.obstacles = obstacles\n",
    "        self.is_dead = False\n",
    "        self.nb_coups = 1\n",
    "        self.reached_goal = False \n",
    "        #self.remplir_matrice()\n",
    "        \n",
    "    def is_won(self):\n",
    "        distance = np.sqrt((self.trou.position[0] - self.balle.position[0])**2 + (self.trou.position[1] - self.balle.position[1])**2 )\n",
    "       # print(distance)\n",
    "        if distance < rt :\n",
    "            self.reached_goal = True\n",
    "    \n",
    "    def is_possible_move(self,segment_dep):\n",
    "        liste_obstacles_cross = []\n",
    "        for i in self.obstacles: # Pour tous les obstacles\n",
    "            if i.cross(segment_dep): # Si un segment_dep et i se croisent alors le move n'est pas possible\n",
    "                    liste_obstacles_cross.append(i)\n",
    "        if len(liste_obstacles_cross) > 0 :\n",
    "            liste_distances = []\n",
    "            liste_inter = []\n",
    "            for i in liste_obstacles_cross:\n",
    "                if (segment_dep.depart[0] - segment_dep.arrivee[0] == 0):\n",
    "                    a_i = (i.depart[1] - i.arrivee[1]) / (i.depart[0] - i.arrivee[0])\n",
    "                    b_i = i.depart[1] - a_i *i.depart[0]\n",
    "                    x_inter = segment_dep.depart[0]\n",
    "                    y_inter = a_i * x_inter + b_i\n",
    "                    liste_inter.append([x_inter , y_inter])\n",
    "                    \n",
    "                    \n",
    "                elif (i.depart[0] - i.arrivee[0] == 0):\n",
    "                    a_segment_dep = (segment_dep.depart[1] - segment_dep.arrivee[1]) / (segment_dep.depart[0] - segment_dep.arrivee[0])\n",
    "                    b_segment_dep = segment_dep.depart[1] - a_segment_dep * segment_dep.depart[0]\n",
    "                    x_inter = i.depart[0]\n",
    "                    y_inter = a_segment_dep * x_inter + b_segment_dep\n",
    "                    liste_inter.append([x_inter , y_inter])\n",
    "                \n",
    "                else :\n",
    "                    a_segment_dep = (segment_dep.depart[1] - segment_dep.arrivee[1]) / (segment_dep.depart[0] - segment_dep.arrivee[0])\n",
    "                    b_segment_dep = segment_dep.depart[1] - a_segment_dep * segment_dep.depart[0]\n",
    "                    a_i = (i.depart[1] - i.arrivee[1]) / (i.depart[0] - i.arrivee[0])\n",
    "                    b_i = i.depart[1] - a_i *i.depart[0]\n",
    "                    x_inter = (b_i - b_segment_dep) / (a_segment_dep - a_i)\n",
    "                    y_inter = a_i * x_inter + b_i\n",
    "                    liste_inter.append([x_inter , y_inter])\n",
    "                \n",
    "                liste_distances.append(np.sqrt( (x_inter - self.balle.position[0])**2 + (y_inter - self.balle.position[1])**2))\n",
    "            self.balle.position[0] = liste_inter[liste_distances.index(min(liste_distances))][0]\n",
    "            self.balle.position[1] = liste_inter[liste_distances.index(min(liste_distances))][1]\n",
    "                \n",
    "            return False\n",
    "        return True\n",
    "    \n",
    "    def remplir_matrice(self):\n",
    "        self.matrice = np.zeros((800,800))\n",
    "        #draw_circle(self.matrice, int(self.balle.position[0]),int(self.balle.position[1]),rb,1)\n",
    "        draw_circle(self.matrice,int(self.trou.position[0]),int(self.trou.position[1]),rt,0.2)\n",
    "        for i in obstacles:\n",
    "            draw_segment(self.matrice, i.depart,i.arrivee)\n",
    "        \n",
    "    def deplacement(self,vitesse_initiale): # La vitesse sera de la forme [ ||v|| , theta)]\n",
    "        #print(\"vitesse initiale :\"+str(vitesse_initiale[0]))\n",
    "        distance =0.5*m/f*vitesse_initiale[0]*ratio_distance\n",
    "        #print(\"distance : \"+str(distance))\n",
    "        #print(vitesse_initiale[1])\n",
    "        #print(np.cos(vitesse_initiale[1]))\n",
    "        #print(np.sin(vitesse_initiale[1]))\n",
    "        segment_dep = Segment([self.balle.position[0],self.balle.position[1]],[self.balle.position[0] + np.cos(vitesse_initiale[1]) * distance,self.balle.position[1] + np.sin(vitesse_initiale[1]) * distance] )\n",
    "        self.is_won()\n",
    "        \n",
    "        if self.reached_goal:\n",
    "            return (self.balle.position[0],self.balle.position[1])\n",
    "        if self.is_possible_move(segment_dep):\n",
    "            self.nb_coups +=1\n",
    "            #print(\"increment x : \"+str(np.cos(vitesse_initiale[1]) * distance))\n",
    "            #print(\"increment y : \"+str(np.sin(vitesse_initiale[1]) * distance))\n",
    "            self.balle.position[0] += np.cos(vitesse_initiale[1]) * distance\n",
    "            self.balle.position[1] += np.sin(vitesse_initiale[1]) * distance  \n",
    "        else :\n",
    "            self.is_dead = True\n",
    "        return (self.balle.position[0],self.balle.position[1])\n",
    "    \n",
    "    def closest_distance(self,angle):\n",
    "        x = self.balle.position[0]\n",
    "        y = self.balle.position[1]\n",
    "        xf = x + 8000*np.cos(angle)\n",
    "        yf = y + 8000*np.sin(angle)\n",
    "        segment_dep = Segment([x,y],[xf,yf])\n",
    "        liste_obstacles_cross = []\n",
    "        liste_distances = []\n",
    "        liste_inter = []\n",
    "        \n",
    "        for i in self.obstacles: # Pour tous les obstacles\n",
    "            if i.cross(segment_dep): # Si un segment_dep et i se croisent alors le move n'est pas possible\n",
    "                    liste_obstacles_cross.append(i)\n",
    "        for i in liste_obstacles_cross:\n",
    "            if (segment_dep.depart[0] - segment_dep.arrivee[0] == 0):\n",
    "                a_i = (i.depart[1] - i.arrivee[1]) / (i.depart[0] - i.arrivee[0])\n",
    "                b_i = i.depart[1] - a_i *i.depart[0]\n",
    "                x_inter = segment_dep.depart[0]\n",
    "                y_inter = a_i * x_inter + b_i\n",
    "                liste_inter.append([x_inter , y_inter])\n",
    "\n",
    "\n",
    "            elif (i.depart[0] - i.arrivee[0] == 0):\n",
    "                a_segment_dep = (segment_dep.depart[1] - segment_dep.arrivee[1]) / (segment_dep.depart[0] - segment_dep.arrivee[0])\n",
    "                b_segment_dep = segment_dep.depart[1] - a_segment_dep * segment_dep.depart[0]\n",
    "                x_inter = i.depart[0]\n",
    "                y_inter = a_segment_dep * x_inter + b_segment_dep\n",
    "                liste_inter.append([x_inter , y_inter])\n",
    "\n",
    "            else :\n",
    "                a_segment_dep = (segment_dep.depart[1] - segment_dep.arrivee[1]) / (segment_dep.depart[0] - segment_dep.arrivee[0])\n",
    "                b_segment_dep = segment_dep.depart[1] - a_segment_dep * segment_dep.depart[0]\n",
    "                a_i = (i.depart[1] - i.arrivee[1]) / (i.depart[0] - i.arrivee[0])\n",
    "                b_i = i.depart[1] - a_i *i.depart[0]\n",
    "                x_inter = (b_i - b_segment_dep) / (a_segment_dep - a_i)\n",
    "                y_inter = a_i * x_inter + b_i\n",
    "                liste_inter.append([x_inter , y_inter])\n",
    "\n",
    "            liste_distances.append(np.sqrt( (x_inter - self.balle.position[0])**2 + (y_inter - self.balle.position[1])**2))\n",
    "        inter_x = liste_inter[liste_distances.index(min(liste_distances))][0]\n",
    "        inter_y = liste_inter[liste_distances.index(min(liste_distances))][1]\n",
    "\n",
    "        distance = np.sqrt((x-inter_x)**2 + (y-inter_y)**2)\n",
    "        return distance\n",
    "    \n",
    "    \n",
    "    \n",
    "    def distances(self):\n",
    "        distances = []\n",
    "        for i in range(k):\n",
    "            distances.append(self.closest_distance(angles[i]))\n",
    "        return distances"
   ]
  },
  {
   "cell_type": "code",
   "execution_count": 30,
   "metadata": {},
   "outputs": [
    {
     "data": {
      "text/plain": [
       "<matplotlib.figure.Figure at 0x11bc67e80>"
      ]
     },
     "metadata": {},
     "output_type": "display_data"
    },
    {
     "data": {
      "image/png": "[encoded data removed]",
      "text/plain": [
       "<matplotlib.figure.Figure at 0x11890f9b0>"
      ]
     },
     "metadata": {},
     "output_type": "display_data"
    },
    {
     "name": "stdout",
     "output_type": "stream",
     "text": [
      "[20.0, 20.44681189730058, 21.892725570120927, 17.013016167040764, 13.456327296063765, 11.547005383792529, 10.514622242382668, 10.055082795635172, 10.055082795635162, 10.514622242382634, 11.547005383792529, 13.456327296063842, 17.013016167040764, 24.585933355742338, 48.09734344744109, 580.0, 592.9575450217169, 634.8890415335071, 716.919426949878, 793.9233104677621, 681.2733176437586, 620.3627123005776, 593.2498849424748, 191.33544467011365, 64.72135954999561, 39.999999999999936, 29.889530997292187, 24.721359549995775, 21.892725570120927, 20.44681189730058]\n"
     ]
    }
   ],
   "source": [
    "#DEFINITION DE LA PARTIE\n",
    "obstacles = []\n",
    "# On ajoute les murs\n",
    "obstacles.append(Segment([100,100],[100,700]))\n",
    "obstacles.append(Segment([100,100],[700,100]))\n",
    "obstacles.append(Segment([100,700],[700,700]))\n",
    "obstacles.append(Segment([700,100],[700,700]))\n",
    "# On ajoute les obstacles\n",
    "#obstacles.append(Segment([100,500],[500,500]))\n",
    "#obstacles.append(Segment([700,350],[200,350]))\n",
    "#obstacles.append(Segment([700,550],[200,550]))\n",
    "\n",
    "\n",
    "array_balle = [680,690]\n",
    "array_trou = [650,150]\n",
    "partie = Partie(array_balle,array_trou, obstacles)\n",
    "\n",
    "partie.remplir_matrice()\n",
    "plt.figure(figsize = (800,800))\n",
    "im1 = plt.matshow(partie.matrice, interpolation = 'bilinear')\n",
    "plt.colorbar(im1)\n",
    "plt.plot([])\n",
    "plt.show()\n",
    "a = partie.distances()\n",
    "print(a)\n",
    "def fitness_function(x):\n",
    "    joueur = Joueur(array_trou,array_balle,obstacles, nbre_mouvements)\n",
    "    joueur.nn.transform(x)\n",
    "    joueur.faire_partie()\n",
    "    #print(9)\n",
    "    #draw_circle(joueur.partie.matrice,joueur.partie.balle.position[0],joueur.partie.balle.position[1],4, 1)\n",
    "    #print(10)\n",
    "    #plt.matshow(joueur.partie.matrice, interpolation = 'bilinear')\n",
    "    #plt.show()\n",
    "    a = joueur.evaluate_fitness()\n",
    "    #print(11)\n",
    "    #print(joueur.partie.is_dead)\n",
    "    return a\n",
    "    \n",
    "    "
   ]
  },
  {
   "cell_type": "code",
   "execution_count": 37,
   "metadata": {},
   "outputs": [
    {
     "name": "stdout",
     "output_type": "stream",
     "text": [
      "(11_w,23)-aCMA-ES (mu_w=6.7,w_1=25%) in dimension 750 (seed=174560, Sat May  9 20:07:36 2020)\n",
      "Iterat #Fevals   function value  axis ratio  sigma  min&max std  t[m:s]\n",
      "    1     23 -1.916476024073399e-02 1.0e+00 1.98e-01  2e-01  2e-01 0:00.4\n",
      "    2     46 -7.116219843334357e-04 1.0e+00 1.96e-01  2e-01  2e-01 0:00.8\n",
      "    3     69 -8.125842745812866e-04 1.0e+00 1.95e-01  2e-01  2e-01 0:01.2\n",
      "    5    115 -1.166328438312561e-01 1.0e+00 1.92e-01  2e-01  2e-01 0:06.3\n",
      "    7    161 -1.931108006984895e-01 1.0e+00 1.89e-01  2e-01  2e-01 0:12.2\n",
      "victoire\n",
      "fitness : 100000.03460207612\n",
      "victoire\n",
      "fitness : 100000.03460207612\n",
      "victoire\n",
      "fitness : 100000.00084168\n",
      "victoire\n",
      "fitness : 100000.00084168\n",
      "victoire\n",
      "fitness : 100000.15625\n",
      "victoire\n",
      "fitness : 100000.15625\n",
      "    9    207 -1.397864911457110e-01 1.0e+00 1.86e-01  2e-01  2e-01 0:19.3\n"
     ]
    },
    {
     "ename": "KeyboardInterrupt",
     "evalue": "",
     "output_type": "error",
     "traceback": [
      "\u001b[0;31m---------------------------------------------------------------------------\u001b[0m",
      "\u001b[0;31mKeyboardInterrupt\u001b[0m                         Traceback (most recent call last)",
      "\u001b[0;32m<ipython-input-37-567d1679f8e3>\u001b[0m in \u001b[0;36m<module>\u001b[0;34m()\u001b[0m\n\u001b[1;32m      5\u001b[0m \u001b[0;32mwhile\u001b[0m \u001b[0;32mnot\u001b[0m \u001b[0mes\u001b[0m\u001b[0;34m.\u001b[0m\u001b[0mstop\u001b[0m\u001b[0;34m(\u001b[0m\u001b[0;34m)\u001b[0m\u001b[0;34m:\u001b[0m\u001b[0;34m\u001b[0m\u001b[0m\n\u001b[1;32m      6\u001b[0m     \u001b[0msolutions\u001b[0m \u001b[0;34m=\u001b[0m \u001b[0mes\u001b[0m\u001b[0;34m.\u001b[0m\u001b[0mask\u001b[0m\u001b[0;34m(\u001b[0m\u001b[0;34m)\u001b[0m\u001b[0;34m\u001b[0m\u001b[0m\n\u001b[0;32m----> 7\u001b[0;31m     \u001b[0mes\u001b[0m\u001b[0;34m.\u001b[0m\u001b[0mtell\u001b[0m\u001b[0;34m(\u001b[0m\u001b[0msolutions\u001b[0m\u001b[0;34m,\u001b[0m \u001b[0;34m[\u001b[0m\u001b[0;34m-\u001b[0m\u001b[0mfitness_function\u001b[0m\u001b[0;34m(\u001b[0m\u001b[0mx\u001b[0m\u001b[0;34m)\u001b[0m \u001b[0;32mfor\u001b[0m \u001b[0mx\u001b[0m \u001b[0;32min\u001b[0m \u001b[0msolutions\u001b[0m\u001b[0;34m]\u001b[0m\u001b[0;34m)\u001b[0m\u001b[0;34m\u001b[0m\u001b[0m\n\u001b[0m\u001b[1;32m      8\u001b[0m     \u001b[0mes\u001b[0m\u001b[0;34m.\u001b[0m\u001b[0mlogger\u001b[0m\u001b[0;34m.\u001b[0m\u001b[0madd\u001b[0m\u001b[0;34m(\u001b[0m\u001b[0;34m)\u001b[0m\u001b[0;34m\u001b[0m\u001b[0m\n\u001b[1;32m      9\u001b[0m     \u001b[0mes\u001b[0m\u001b[0;34m.\u001b[0m\u001b[0mdisp\u001b[0m\u001b[0;34m(\u001b[0m\u001b[0;34m)\u001b[0m\u001b[0;34m\u001b[0m\u001b[0m\n",
      "\u001b[0;32m<ipython-input-37-567d1679f8e3>\u001b[0m in \u001b[0;36m<listcomp>\u001b[0;34m(.0)\u001b[0m\n\u001b[1;32m      5\u001b[0m \u001b[0;32mwhile\u001b[0m \u001b[0;32mnot\u001b[0m \u001b[0mes\u001b[0m\u001b[0;34m.\u001b[0m\u001b[0mstop\u001b[0m\u001b[0;34m(\u001b[0m\u001b[0;34m)\u001b[0m\u001b[0;34m:\u001b[0m\u001b[0;34m\u001b[0m\u001b[0m\n\u001b[1;32m      6\u001b[0m     \u001b[0msolutions\u001b[0m \u001b[0;34m=\u001b[0m \u001b[0mes\u001b[0m\u001b[0;34m.\u001b[0m\u001b[0mask\u001b[0m\u001b[0;34m(\u001b[0m\u001b[0;34m)\u001b[0m\u001b[0;34m\u001b[0m\u001b[0m\n\u001b[0;32m----> 7\u001b[0;31m     \u001b[0mes\u001b[0m\u001b[0;34m.\u001b[0m\u001b[0mtell\u001b[0m\u001b[0;34m(\u001b[0m\u001b[0msolutions\u001b[0m\u001b[0;34m,\u001b[0m \u001b[0;34m[\u001b[0m\u001b[0;34m-\u001b[0m\u001b[0mfitness_function\u001b[0m\u001b[0;34m(\u001b[0m\u001b[0mx\u001b[0m\u001b[0;34m)\u001b[0m \u001b[0;32mfor\u001b[0m \u001b[0mx\u001b[0m \u001b[0;32min\u001b[0m \u001b[0msolutions\u001b[0m\u001b[0;34m]\u001b[0m\u001b[0;34m)\u001b[0m\u001b[0;34m\u001b[0m\u001b[0m\n\u001b[0m\u001b[1;32m      8\u001b[0m     \u001b[0mes\u001b[0m\u001b[0;34m.\u001b[0m\u001b[0mlogger\u001b[0m\u001b[0;34m.\u001b[0m\u001b[0madd\u001b[0m\u001b[0;34m(\u001b[0m\u001b[0;34m)\u001b[0m\u001b[0;34m\u001b[0m\u001b[0m\n\u001b[1;32m      9\u001b[0m     \u001b[0mes\u001b[0m\u001b[0;34m.\u001b[0m\u001b[0mdisp\u001b[0m\u001b[0;34m(\u001b[0m\u001b[0;34m)\u001b[0m\u001b[0;34m\u001b[0m\u001b[0m\n",
      "\u001b[0;32m<ipython-input-30-3dfb0980f10a>\u001b[0m in \u001b[0;36mfitness_function\u001b[0;34m(x)\u001b[0m\n\u001b[1;32m     27\u001b[0m     \u001b[0mjoueur\u001b[0m \u001b[0;34m=\u001b[0m \u001b[0mJoueur\u001b[0m\u001b[0;34m(\u001b[0m\u001b[0marray_trou\u001b[0m\u001b[0;34m,\u001b[0m\u001b[0marray_balle\u001b[0m\u001b[0;34m,\u001b[0m\u001b[0mobstacles\u001b[0m\u001b[0;34m,\u001b[0m \u001b[0mnbre_mouvements\u001b[0m\u001b[0;34m)\u001b[0m\u001b[0;34m\u001b[0m\u001b[0m\n\u001b[1;32m     28\u001b[0m     \u001b[0mjoueur\u001b[0m\u001b[0;34m.\u001b[0m\u001b[0mnn\u001b[0m\u001b[0;34m.\u001b[0m\u001b[0mtransform\u001b[0m\u001b[0;34m(\u001b[0m\u001b[0mx\u001b[0m\u001b[0;34m)\u001b[0m\u001b[0;34m\u001b[0m\u001b[0m\n\u001b[0;32m---> 29\u001b[0;31m     \u001b[0mjoueur\u001b[0m\u001b[0;34m.\u001b[0m\u001b[0mfaire_partie\u001b[0m\u001b[0;34m(\u001b[0m\u001b[0;34m)\u001b[0m\u001b[0;34m\u001b[0m\u001b[0m\n\u001b[0m\u001b[1;32m     30\u001b[0m     \u001b[0;31m#print(9)\u001b[0m\u001b[0;34m\u001b[0m\u001b[0;34m\u001b[0m\u001b[0m\n\u001b[1;32m     31\u001b[0m     \u001b[0;31m#draw_circle(joueur.partie.matrice,joueur.partie.balle.position[0],joueur.partie.balle.position[1],4, 1)\u001b[0m\u001b[0;34m\u001b[0m\u001b[0;34m\u001b[0m\u001b[0m\n",
      "\u001b[0;32m<ipython-input-22-298932392440>\u001b[0m in \u001b[0;36mfaire_partie\u001b[0;34m(self)\u001b[0m\n\u001b[1;32m     44\u001b[0m \u001b[0;34m\u001b[0m\u001b[0m\n\u001b[1;32m     45\u001b[0m              \u001b[0;31m#   print(2)\u001b[0m\u001b[0;34m\u001b[0m\u001b[0;34m\u001b[0m\u001b[0m\n\u001b[0;32m---> 46\u001b[0;31m                 \u001b[0ma\u001b[0m \u001b[0;34m=\u001b[0m \u001b[0mself\u001b[0m\u001b[0;34m.\u001b[0m\u001b[0mpartie\u001b[0m\u001b[0;34m.\u001b[0m\u001b[0mdistances\u001b[0m\u001b[0;34m(\u001b[0m\u001b[0;34m)\u001b[0m\u001b[0;34m\u001b[0m\u001b[0m\n\u001b[0m\u001b[1;32m     47\u001b[0m                 \u001b[0mb\u001b[0m \u001b[0;34m=\u001b[0m \u001b[0mnp\u001b[0m\u001b[0;34m.\u001b[0m\u001b[0marray\u001b[0m\u001b[0;34m(\u001b[0m\u001b[0;34m[\u001b[0m\u001b[0mself\u001b[0m\u001b[0;34m.\u001b[0m\u001b[0mpartie\u001b[0m\u001b[0;34m.\u001b[0m\u001b[0mballe\u001b[0m\u001b[0;34m.\u001b[0m\u001b[0mposition\u001b[0m\u001b[0;34m[\u001b[0m\u001b[0;36m0\u001b[0m\u001b[0;34m]\u001b[0m\u001b[0;34m,\u001b[0m\u001b[0mself\u001b[0m\u001b[0;34m.\u001b[0m\u001b[0mpartie\u001b[0m\u001b[0;34m.\u001b[0m\u001b[0mballe\u001b[0m\u001b[0;34m.\u001b[0m\u001b[0mposition\u001b[0m\u001b[0;34m[\u001b[0m\u001b[0;36m1\u001b[0m\u001b[0;34m]\u001b[0m\u001b[0;34m,\u001b[0m\u001b[0mself\u001b[0m\u001b[0;34m.\u001b[0m\u001b[0mpartie\u001b[0m\u001b[0;34m.\u001b[0m\u001b[0mtrou\u001b[0m\u001b[0;34m.\u001b[0m\u001b[0mposition\u001b[0m\u001b[0;34m[\u001b[0m\u001b[0;36m0\u001b[0m\u001b[0;34m]\u001b[0m\u001b[0;34m,\u001b[0m\u001b[0mself\u001b[0m\u001b[0;34m.\u001b[0m\u001b[0mpartie\u001b[0m\u001b[0;34m.\u001b[0m\u001b[0mtrou\u001b[0m\u001b[0;34m.\u001b[0m\u001b[0mposition\u001b[0m\u001b[0;34m[\u001b[0m\u001b[0;36m1\u001b[0m\u001b[0;34m]\u001b[0m\u001b[0;34m]\u001b[0m\u001b[0;34m)\u001b[0m\u001b[0;34m\u001b[0m\u001b[0m\n\u001b[1;32m     48\u001b[0m               \u001b[0;31m#  print(3)\u001b[0m\u001b[0;34m\u001b[0m\u001b[0;34m\u001b[0m\u001b[0m\n",
      "\u001b[0;32m<ipython-input-27-887d5bd114ee>\u001b[0m in \u001b[0;36mdistances\u001b[0;34m(self)\u001b[0m\n\u001b[1;32m    137\u001b[0m         \u001b[0mdistances\u001b[0m \u001b[0;34m=\u001b[0m \u001b[0;34m[\u001b[0m\u001b[0;34m]\u001b[0m\u001b[0;34m\u001b[0m\u001b[0m\n\u001b[1;32m    138\u001b[0m         \u001b[0;32mfor\u001b[0m \u001b[0mi\u001b[0m \u001b[0;32min\u001b[0m \u001b[0mrange\u001b[0m\u001b[0;34m(\u001b[0m\u001b[0mk\u001b[0m\u001b[0;34m)\u001b[0m\u001b[0;34m:\u001b[0m\u001b[0;34m\u001b[0m\u001b[0m\n\u001b[0;32m--> 139\u001b[0;31m             \u001b[0mdistances\u001b[0m\u001b[0;34m.\u001b[0m\u001b[0mappend\u001b[0m\u001b[0;34m(\u001b[0m\u001b[0mself\u001b[0m\u001b[0;34m.\u001b[0m\u001b[0mclosest_distance\u001b[0m\u001b[0;34m(\u001b[0m\u001b[0mangles\u001b[0m\u001b[0;34m[\u001b[0m\u001b[0mi\u001b[0m\u001b[0;34m]\u001b[0m\u001b[0;34m)\u001b[0m\u001b[0;34m)\u001b[0m\u001b[0;34m\u001b[0m\u001b[0m\n\u001b[0m\u001b[1;32m    140\u001b[0m         \u001b[0;32mreturn\u001b[0m \u001b[0mdistances\u001b[0m\u001b[0;34m\u001b[0m\u001b[0m\n",
      "\u001b[0;32m<ipython-input-27-887d5bd114ee>\u001b[0m in \u001b[0;36mclosest_distance\u001b[0;34m(self, angle)\u001b[0m\n\u001b[1;32m     90\u001b[0m         \u001b[0mx\u001b[0m \u001b[0;34m=\u001b[0m \u001b[0mself\u001b[0m\u001b[0;34m.\u001b[0m\u001b[0mballe\u001b[0m\u001b[0;34m.\u001b[0m\u001b[0mposition\u001b[0m\u001b[0;34m[\u001b[0m\u001b[0;36m0\u001b[0m\u001b[0;34m]\u001b[0m\u001b[0;34m\u001b[0m\u001b[0m\n\u001b[1;32m     91\u001b[0m         \u001b[0my\u001b[0m \u001b[0;34m=\u001b[0m \u001b[0mself\u001b[0m\u001b[0;34m.\u001b[0m\u001b[0mballe\u001b[0m\u001b[0;34m.\u001b[0m\u001b[0mposition\u001b[0m\u001b[0;34m[\u001b[0m\u001b[0;36m1\u001b[0m\u001b[0;34m]\u001b[0m\u001b[0;34m\u001b[0m\u001b[0m\n\u001b[0;32m---> 92\u001b[0;31m         \u001b[0mxf\u001b[0m \u001b[0;34m=\u001b[0m \u001b[0mx\u001b[0m \u001b[0;34m+\u001b[0m \u001b[0;36m8000\u001b[0m\u001b[0;34m*\u001b[0m\u001b[0mnp\u001b[0m\u001b[0;34m.\u001b[0m\u001b[0mcos\u001b[0m\u001b[0;34m(\u001b[0m\u001b[0mangle\u001b[0m\u001b[0;34m)\u001b[0m\u001b[0;34m\u001b[0m\u001b[0m\n\u001b[0m\u001b[1;32m     93\u001b[0m         \u001b[0myf\u001b[0m \u001b[0;34m=\u001b[0m \u001b[0my\u001b[0m \u001b[0;34m+\u001b[0m \u001b[0;36m8000\u001b[0m\u001b[0;34m*\u001b[0m\u001b[0mnp\u001b[0m\u001b[0;34m.\u001b[0m\u001b[0msin\u001b[0m\u001b[0;34m(\u001b[0m\u001b[0mangle\u001b[0m\u001b[0;34m)\u001b[0m\u001b[0;34m\u001b[0m\u001b[0m\n\u001b[1;32m     94\u001b[0m         \u001b[0msegment_dep\u001b[0m \u001b[0;34m=\u001b[0m \u001b[0mSegment\u001b[0m\u001b[0;34m(\u001b[0m\u001b[0;34m[\u001b[0m\u001b[0mx\u001b[0m\u001b[0;34m,\u001b[0m\u001b[0my\u001b[0m\u001b[0;34m]\u001b[0m\u001b[0;34m,\u001b[0m\u001b[0;34m[\u001b[0m\u001b[0mxf\u001b[0m\u001b[0;34m,\u001b[0m\u001b[0myf\u001b[0m\u001b[0;34m]\u001b[0m\u001b[0;34m)\u001b[0m\u001b[0;34m\u001b[0m\u001b[0m\n",
      "\u001b[0;31mKeyboardInterrupt\u001b[0m: "
     ]
    }
   ],
   "source": [
    "x0 = np.random.randn(N_in*N1+N2*N1+ N2*N_out)\n",
    "es = cma.CMAEvolutionStrategy(x0,0.2)\n",
    "#help(cma.CMAEvolutionStrategy)\n",
    "\n",
    "while not es.stop():\n",
    "    solutions = es.ask()\n",
    "    es.tell(solutions, [-fitness_function(x) for x in solutions])\n",
    "    es.logger.add()\n",
    "    es.disp()\n",
    "        \n",
    "        \n",
    "    \n",
    "        "
   ]
  },
  {
   "cell_type": "code",
   "execution_count": null,
   "metadata": {
    "collapsed": true
   },
   "outputs": [],
   "source": []
  },
  {
   "cell_type": "code",
   "execution_count": null,
   "metadata": {
    "collapsed": true
   },
   "outputs": [],
   "source": []
  },
  {
   "cell_type": "code",
   "execution_count": null,
   "metadata": {
    "collapsed": true
   },
   "outputs": [],
   "source": []
  },
  {
   "cell_type": "code",
   "execution_count": null,
   "metadata": {
    "collapsed": true
   },
   "outputs": [],
   "source": []
  },
  {
   "cell_type": "code",
   "execution_count": null,
   "metadata": {
    "collapsed": true
   },
   "outputs": [],
   "source": []
  },
  {
   "cell_type": "code",
   "execution_count": null,
   "metadata": {
    "collapsed": true
   },
   "outputs": [],
   "source": []
  },
  {
   "cell_type": "code",
   "execution_count": null,
   "metadata": {
    "collapsed": true
   },
   "outputs": [],
   "source": []
  },
  {
   "cell_type": "code",
   "execution_count": null,
   "metadata": {
    "collapsed": true
   },
   "outputs": [],
   "source": []
  },
  {
   "cell_type": "code",
   "execution_count": null,
   "metadata": {
    "collapsed": true
   },
   "outputs": [],
   "source": []
  },
  {
   "cell_type": "code",
   "execution_count": null,
   "metadata": {
    "collapsed": true
   },
   "outputs": [],
   "source": []
  },
  {
   "cell_type": "code",
   "execution_count": null,
   "metadata": {
    "collapsed": true
   },
   "outputs": [],
   "source": []
  },
  {
   "cell_type": "code",
   "execution_count": null,
   "metadata": {
    "collapsed": true
   },
   "outputs": [],
   "source": []
  },
  {
   "cell_type": "code",
   "execution_count": null,
   "metadata": {
    "collapsed": true
   },
   "outputs": [],
   "source": []
  },
  {
   "cell_type": "code",
   "execution_count": null,
   "metadata": {
    "collapsed": true
   },
   "outputs": [],
   "source": []
  }
 ],
 "metadata": {
  "kernelspec": {
   "display_name": "Python 3",
   "language": "python",
   "name": "python3"
  },
  "language_info": {
   "codemirror_mode": {
    "name": "ipython",
    "version": 3
   },
   "file_extension": ".py",
   "mimetype": "text/x-python",
   "name": "python",
   "nbconvert_exporter": "python",
   "pygments_lexer": "ipython3",
   "version": "3.6.2"
  }
 },
 "nbformat": 4,
 "nbformat_minor": 2
}
