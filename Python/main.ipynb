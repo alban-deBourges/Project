{
 "cells": [
  {
   "cell_type": "code",
   "execution_count": 33,
   "metadata": {},
   "outputs": [],
   "source": [
    "import matplotlib.pyplot as plt\n",
    "import pygame\n",
    "import numpy as np"
   ]
  },
  {
   "cell_type": "code",
   "execution_count": 26,
   "metadata": {},
   "outputs": [],
   "source": [
    "##### CONSTANTES\n",
    "\n",
    "f = 0.3\n",
    "rb = 1\n",
    "rt = 2\n",
    "dt = 0.0\n",
    "m = 1\n",
    "g = 9.81\n"
   ]
  },
  {
   "cell_type": "code",
   "execution_count": 27,
   "metadata": {},
   "outputs": [],
   "source": [
    "\n",
    "###### FONCTIONS UTILES\n",
    "\n",
    "def produitvectoriel(vect1,vect2):\n",
    "    return (vect1[0]*vect2[1] - vect1[1]*vect2[0])\n",
    "\n",
    "def produitscalaire(vect1,vect2):\n",
    "    return(vect1[0]*vect2[0] + vect1[1]*vect2[1])\n"
   ]
  },
  {
   "cell_type": "code",
   "execution_count": 28,
   "metadata": {},
   "outputs": [
    {
     "name": "stdout",
     "output_type": "stream",
     "text": [
      "False\n"
     ]
    }
   ],
   "source": [
    "##### CLASSE SEGMENT\n",
    "\n",
    "class Segment:\n",
    "    def __init__(self,array1,array2):\n",
    "        self.depart = array1\n",
    "        self.arrivee = array2\n",
    "        \n",
    "    def cross(self , segment):\n",
    "        ab = [self.arrivee[0] - self.depart[0] , self.arrivee[1] - self.depart[1]]\n",
    "        apbp = [segment.arrivee[0] - segment.depart[0] , segment.arrivee[1] - segment.depart[1]]\n",
    "        abp = [segment.arrivee[0] - self.depart[0], segment.arrivee[1] - self.depart[1]]\n",
    "        aap = [segment.depart[0] - self.depart[0], segment.depart[1] - self.depart[1] ]\n",
    "        apb = [self.arrivee[0] - segment.depart[0] , self.arrivee[1] - segment.depart[1]]\n",
    "        apa = [self.depart[0] - segment.depart[0] , self.depart[1] - segment.depart[1]]\n",
    "        \n",
    "        c1 = produitvectoriel(ab,apbp) != 0\n",
    "        c2 = (produitvectoriel(ab,abp) * produitvectoriel(ab,aap))<=0\n",
    "        c3 = (produitvectoriel(apbp,apb) * produitvectoriel(apbp,apa))<=0\n",
    "        return(c1 and c2 and c3)\n",
    "        \n",
    "        \n",
    "s1 = Segment([0,0],[1,0])\n",
    "s2 = Segment([0.5, -0.5],[0.5,0.5])\n",
    "s3 = Segment([0,1],[1,1])\n",
    "print(s1.cross(s3))\n",
    "\n"
   ]
  },
  {
   "cell_type": "code",
   "execution_count": 29,
   "metadata": {},
   "outputs": [],
   "source": [
    "##### CLASSE TROU\n",
    "\n",
    "class Trou:\n",
    "    def __init__(self, array):\n",
    "        self.position = array\n",
    " \n",
    "\n"
   ]
  },
  {
   "cell_type": "code",
   "execution_count": 30,
   "metadata": {},
   "outputs": [],
   "source": [
    "##### CLASSE BALLE\n",
    "\n",
    "class Balle:\n",
    "    def __init__(self, array):\n",
    "        self.position = array\n",
    "    \n",
    " \n"
   ]
  },
  {
   "cell_type": "code",
   "execution_count": 34,
   "metadata": {},
   "outputs": [],
   "source": [
    "##### CLASSE PARTIE\n",
    "\n",
    "\n",
    "\n",
    "class Partie:\n",
    "    def __init__(self, arrayballe,arraytrou):\n",
    "        self.balle = Balle(arrayballe)\n",
    "        self.trou = Trou(arraytrou)\n",
    "        self.obstacles = obstacles\n",
    "        self.is_over = False\n",
    "        self.nb_coups = 0\n",
    "        self.is_win = False \n",
    "        \n",
    "    def is_won(self):\n",
    "        distance = np.sqrt((self.trou.position[0] - self.balle.position[0])**2 + (self.trou.position[1] - self.balle.position[1])**2 )\n",
    "       # print(distance)\n",
    "        return(distance < rt)\n",
    "    \n",
    "    def is_possible_move(self,segment_dep):\n",
    "        for i in self.obstacles: # Pour tous les obstacles\n",
    "            if i.cross(segment_dep)== False: # Si un segment_dep et i se croisent alors le move n'est pas possible\n",
    "                    return True\n",
    "        return False\n",
    "    \n",
    "    \n",
    "    def deplacement(self,vitesse_initiale): # La vitesse sera de la forme [ ||v|| , theta)]\n",
    "        distance =0.5*m/f*vitesse_initiale[0]**2\n",
    "       # print(vitesse_initiale[0])\n",
    "        segment_dep = Segment([self.balle.position[0],self.balle.position[1]],[self.balle.position[0] + np.cos(vitesse_initiale[1]) * distance,self.balle.position[1] + np.sin(vitesse_initiale[1]) * distance] )\n",
    "       # print(self.is_possible_move(segment_dep))\n",
    "        if self.is_possible_move(segment_dep):\n",
    "            self.balle.position[0] += np.cos(vitesse_initiale[1]) * distance\n",
    "            self.balle.position[1] += np.sin(vitesse_initiale[1]) * distance\n",
    "       \n",
    "           \n",
    "        else :\n",
    "            self.is_over = True\n",
    "        if self.is_won() :\n",
    "            self.is_win = True\n",
    "        return (self.balle.position[0],self.balle.position[1])\n",
    "    \n",
    "    \n",
    "\n"
   ]
  },
  {
   "cell_type": "code",
   "execution_count": 35,
   "metadata": {},
   "outputs": [
    {
     "name": "stdout",
     "output_type": "stream",
     "text": [
      "100\n"
     ]
    }
   ],
   "source": [
    "obstacles = []\n",
    "# On ajoute les murs\n",
    "obstacles.append(Segment([0,0],[0,700]))\n",
    "obstacles.append(Segment([0,0],[700,0]))\n",
    "obstacles.append(Segment([700,0],[700,700]))\n",
    "obstacles.append(Segment([0,700],[700,700]))\n",
    "# On ajoute les obstacles\n",
    "obstacles.append(Segment([300,300],[900,300]))\n",
    "\n",
    "array_balle = [500,500]\n",
    "array_trou = [100,100]\n",
    "vitesse = [0.3,np.pi/2]\n",
    "partie = Partie(array_balle,array_trou)\n",
    "print(partie.trou.position[0])\n",
    "for i in range(10) :\n",
    "    partie.deplacement(vitesse)\n"
   ]
  },
  {
   "cell_type": "code",
   "execution_count": 36,
   "metadata": {},
   "outputs": [
    {
     "name": "stdout",
     "output_type": "stream",
     "text": [
      "fin\n"
     ]
    }
   ],
   "source": [
    "\n",
    "import pygame\n",
    "import math\n",
    "pygame.init()\n",
    "win = pygame.display.set_mode((700,700))\n",
    "pygame.display.set_caption(\"Le mini-golf de l'enfer\")\n",
    "vitesse = [4.,3,5,4,6]\n",
    "angle = [30,180,270,90,160]\n",
    "x_trou = partie.trou.position[0]\n",
    "y_trou = partie.trou.position[1]\n",
    "win.fill((0,128,0))\n",
    "pygame.draw.line(win, (0,0,0), obstacles[4].depart, obstacles[4].arrivee)\n",
    "pygame.draw.circle(win, (250,250,250), (int(partie.balle.position[0]),int(partie.balle.position[1])), 10) \n",
    "pygame.draw.circle(win, (0,0,0), (x_trou,y_trou), 20) \n",
    "pygame.display.update()\n",
    "run = True\n",
    "while run :\n",
    "    pygame.time.delay(30)\n",
    "    \n",
    "    for event in pygame.event.get():\n",
    "        if event.type == pygame.QUIT:\n",
    "            run = False\n",
    "            \n",
    "    keys = pygame.key.get_pressed()\n",
    "  \n",
    "    win.fill((0,128,0))\n",
    "    pygame.draw.line(win, (0,0,0), obstacles[4].depart, obstacles[4].arrivee)\n",
    "    pygame.draw.circle(win, (0,0,0), (x_trou,y_trou), 20) \n",
    "    pygame.draw.circle(win, (250,250,250), (int(partie.balle.position[0]),int(partie.balle.position[1])), 10)\n",
    "    pygame.display.update()\n",
    "    \n",
    "    \n",
    "    if keys[pygame.K_SPACE] :\n",
    "        for vit,ang in zip(vitesse,angle) :\n",
    "            while vit > 0 :\n",
    "                pygame.time.delay(30)\n",
    "                for event in pygame.event.get():\n",
    "                    if event.type == pygame.QUIT:\n",
    "                        run = False\n",
    "                pygame.draw.circle(win, (0,0,0), (100,100), 20) \n",
    "                pygame.draw.circle(win, (250,250,250), (int(partie.deplacement([vit,ang])[0]),int(partie.deplacement([vit,ang])[1])), 10)\n",
    "                pygame.display.update()\n",
    "                vit-=0.5\n",
    "                win.fill((0,128,0))\n",
    "    vel = 10\n",
    "\n",
    "\n",
    "print(\"fin\")\n",
    "pygame.display.flip()\n",
    "pygame.quit()"
   ]
  },
  {
   "cell_type": "code",
   "execution_count": null,
   "metadata": {},
   "outputs": [],
   "source": []
  },
  {
   "cell_type": "code",
   "execution_count": null,
   "metadata": {},
   "outputs": [],
   "source": []
  },
  {
   "cell_type": "code",
   "execution_count": null,
   "metadata": {},
   "outputs": [],
   "source": []
  }
 ],
 "metadata": {
  "kernelspec": {
   "display_name": "Python 3",
   "language": "python",
   "name": "python3"
  },
  "language_info": {
   "codemirror_mode": {
    "name": "ipython",
    "version": 3
   },
   "file_extension": ".py",
   "mimetype": "text/x-python",
   "name": "python",
   "nbconvert_exporter": "python",
   "pygments_lexer": "ipython3",
   "version": "3.7.6"
  }
 },
 "nbformat": 4,
 "nbformat_minor": 2
}
