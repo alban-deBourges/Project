{
 "cells": [
  {
   "cell_type": "code",
   "execution_count": 1,
   "metadata": {},
   "outputs": [
    {
     "name": "stdout",
     "output_type": "stream",
     "text": [
      "pygame 1.9.6\n",
      "Hello from the pygame community. https://www.pygame.org/contribute.html\n"
     ]
    }
   ],
   "source": [
    "import matplotlib.pyplot as plt\n",
    "import pygame\n",
    "import numpy as np\n",
    "import math\n",
    "import random\n",
    "import copy"
   ]
  },
  {
   "cell_type": "code",
   "execution_count": 2,
   "metadata": {
    "collapsed": true
   },
   "outputs": [],
   "source": [
    "#### C'est le premier algo. Mutation uniquement. Pas de selection des meilleurs. \n",
    "### Tres limité"
   ]
  },
  {
   "cell_type": "code",
   "execution_count": 3,
   "metadata": {
    "collapsed": true
   },
   "outputs": [],
   "source": [
    "##### CONSTANTES\n",
    "\n",
    "f = 0.3\n",
    "rb = 5\n",
    "rt = 20\n",
    "dt = 0.0\n",
    "m = 1\n",
    "g = 9.81\n",
    "k = 2\n",
    "num_elites = 5\n",
    "nbre_mouvements = 50\n",
    "nb_gen = 20\n",
    "nb_pop = 100\n",
    "mutation_rate = 2/(nbre_mouvements*2)\n",
    "v_max = 10"
   ]
  },
  {
   "cell_type": "code",
   "execution_count": 4,
   "metadata": {
    "collapsed": true
   },
   "outputs": [],
   "source": [
    "###### FONCTIONS UTILES\n",
    "\n",
    "def produitvectoriel(vect1,vect2):\n",
    "    return (vect1[0]*vect2[1] - vect1[1]*vect2[0])\n",
    "\n",
    "def produitscalaire(vect1,vect2):\n",
    "    return(vect1[0]*vect2[0] + vect1[1]*vect2[1])\n"
   ]
  },
  {
   "cell_type": "code",
   "execution_count": 5,
   "metadata": {
    "collapsed": true
   },
   "outputs": [],
   "source": [
    "##### CLASSE JOUEUR\n",
    "\n",
    "\n",
    "class Joueur:\n",
    "    \n",
    "    \n",
    "    \n",
    "    def __init__(self, array_trou,array_balle,obstacles, nbre_mouvements):\n",
    "        self.is_best = False\n",
    "        self.fitness = 0\n",
    "        self.partie = Partie(array_balle,array_trou,obstacles)\n",
    "        self.liste_mouvements = []\n",
    "        self.liste_emplacements = [array_balle]\n",
    "        for i in range(nbre_mouvements):\n",
    "            v = random.random()*v_max\n",
    "            t = random.random()*2*np.pi\n",
    "            self.liste_mouvements.append([v,t])\n",
    "            \n",
    "    def evaluate_fitness(self):\n",
    "        \n",
    "        distance = np.sqrt((self.partie.trou.position[0] - self.partie.balle.position[0])**2 + (self.partie.trou.position[1] - self.partie.balle.position[1])**2 )\n",
    "        \n",
    "        if self.partie.reached_goal:\n",
    "            self.fitness = 3 + 10/(self.partie.nb_coups**2)\n",
    "        \n",
    "        else: \n",
    "            self.fitness = self.partie.nb_coups/distance**2 \n",
    "            \n",
    "        \n",
    "    def faire_moves(self):\n",
    "        for i in self.liste_mouvements:\n",
    "            self.liste_emplacements.append(self.partie.deplacement(i))\n",
    "    \n",
    "    def mutate(self):\n",
    "        for i in self.liste_mouvements:\n",
    "            if random.random() < mutation_rate:\n",
    "                i[0] = random.random()*v_max\n",
    "            if random.random() < mutation_rate:\n",
    "                i[1] = random.random()*2*np.pi\n",
    "    \n",
    "                "
   ]
  },
  {
   "cell_type": "code",
   "execution_count": 6,
   "metadata": {
    "collapsed": true
   },
   "outputs": [],
   "source": [
    "###### CLASSE POPULATION\n",
    "\n",
    "class Population:\n",
    "    def __init__(self, size, arraytrou, arrayballe, obstacles, nbre_mouvements):\n",
    "        self.liste_joueur = []\n",
    "        for i in range(size):\n",
    "            self.liste_joueur.append(Joueur(arraytrou, arrayballe, obstacles, nbre_mouvements))\n",
    "\n",
    "    def mutate_all(self,arraytrou, arrayballe, obstacles, nbre_mouvements):\n",
    "        for i in range(len(self.liste_joueur)):\n",
    "            self.liste_joueur[i].partie = Partie(arrayballe,arraytrou,obstacles)\n",
    "            nouveauJoueur = Joueur(arraytrou, arrayballe, obstacles, nbre_mouvements)\n",
    "            for j in range(nbre_mouvements):\n",
    "                nouveauJoueur.liste_mouvements.append(self.liste_joueur[i].liste_mouvements[j].copy())\n",
    "            nouveauJoueur.mutate()\n",
    "            self.liste_joueur[i].faire_moves()\n",
    "            self.liste_joueur[i].evaluate_fitness()\n",
    "            nouveauJoueur.faire_moves()\n",
    "            nouveauJoueur.evaluate_fitness()\n",
    "            #print(\"nb_coups du vieux : \"+ str(self.liste_joueur[i].partie.nb_coups))\n",
    "            #print(\"nb_coups du jeune : \"+ str(nouveauJoueur.partie.nb_coups))\n",
    "            if nouveauJoueur.fitness > self.liste_joueur[i].fitness :\n",
    "                self.liste_joueur[i] = nouveauJoueur\n",
    "    \n",
    "    \n",
    "    def step_ga(self,size, arraytrou,arrayballe,obstacles,nbre_mouvements):\n",
    "        liste = []\n",
    "        \n",
    "        for j in self.liste_joueur: \n",
    "            j.faire_moves()\n",
    "            j.evaluate_fitness()\n",
    "            \n",
    "        fits = [self.liste_joueur[i].fitness for i in range(nb_pop)]\n",
    "        \n",
    "        for i in range(num_elites):\n",
    "            liste.append(self.liste_joueur[i])\n",
    "            \n",
    "            \n",
    "            \n",
    "            \n",
    "        for i in range(num_elites,nb_pop):\n",
    "            parent = self.tournament_selection(k)\n",
    "            partie = Partie(arrayballe,arraytrou,obstacles)\n",
    "            child = Joueur(arraytrou, arrayballe, obstacles, nbre_mouvements)\n",
    "            child.partie = partie\n",
    "            for j in range(nbre_mouvements):\n",
    "                child.liste_mouvements[j] = parent.liste_mouvements[j].copy()\n",
    "            child.mutate()\n",
    "            child.faire_moves()\n",
    "            child.evaluate_fitness()\n",
    "            liste.append(child)\n",
    "            \n",
    "        self.liste_joueur = liste\n",
    "        \n",
    "        \n",
    "    def tournament_selection(self, k):\n",
    "        select = []\n",
    "        for i in range(k):\n",
    "            select.append(random.randint(0,nb_pop-1))\n",
    "        best = select[0]\n",
    "        for j in select:\n",
    "            if self.liste_joueur[j].fitness > self.liste_joueur[best].fitness:\n",
    "                best = j\n",
    "        return self.liste_joueur[best]   \n",
    "        \n",
    "                \n",
    "    def print_partie(self,arraytrou, arrayballe, obstacles, nbre_mouvements):\n",
    "        pygame.init()\n",
    "        win = pygame.display.set_mode((700,700))\n",
    "        pygame.display.set_caption(\"Le mini-golf de l'enfer\")\n",
    "        x_trou = int(arraytrou[0])\n",
    "        y_trou = int(arraytrou[1])\n",
    "        win.fill((0,128,0))\n",
    "        for i in obstacles:\n",
    "            pygame.draw.line(win, (0,0,0), i.depart, i.arrivee,10)\n",
    "\n",
    "        run = True\n",
    "        couleur = self.generer_couleur()\n",
    "        while run :\n",
    "\n",
    "            for i in range(nbre_mouvements): \n",
    "                pygame.time.delay(1)\n",
    "                for event in pygame.event.get():\n",
    "                    if event.type == pygame.QUIT:\n",
    "                        run = False\n",
    "                pygame.draw.circle(win, (0,0,0), (x_trou,y_trou), rt)\n",
    "                for obs in obstacles:\n",
    "                    pygame.draw.line(win, (0,0,0), obs.depart, obs.arrivee,10)\n",
    "                ind_coul = 0\n",
    "                for j in self.liste_joueur:\n",
    "                    pygame.draw.circle(win, couleur[ind_coul], (int(j.liste_emplacements[i][0]),int(j.liste_emplacements[i][1])), rb)\n",
    "                    pygame.display.update()\n",
    "                    ind_coul += 1\n",
    "                win.fill((0,128,0))\n",
    "        print(\"fin\")\n",
    "        pygame.display.flip()\n",
    "        pygame.quit()\n",
    "\n",
    "    def generer_couleur(self):\n",
    "        couleur = []\n",
    "        for i in range(nb_pop):\n",
    "            couleur.append((random.randint(0,250),random.randint(0,250),random.randint(0,250)))\n",
    "        print(couleur)\n",
    "        return couleur"
   ]
  },
  {
   "cell_type": "code",
   "execution_count": 7,
   "metadata": {
    "collapsed": true
   },
   "outputs": [],
   "source": [
    "#### CLASSE SEGMENT\n",
    "\n",
    "class Segment:\n",
    "    def __init__(self,array1,array2):\n",
    "        self.depart = array1\n",
    "        self.arrivee = array2\n",
    "        \n",
    "    def cross(self , segment):\n",
    "        ab = [self.arrivee[0] - self.depart[0] , self.arrivee[1] - self.depart[1]]\n",
    "        apbp = [segment.arrivee[0] - segment.depart[0] , segment.arrivee[1] - segment.depart[1]]\n",
    "        abp = [segment.arrivee[0] - self.depart[0], segment.arrivee[1] - self.depart[1]]\n",
    "        aap = [segment.depart[0] - self.depart[0], segment.depart[1] - self.depart[1] ]\n",
    "        apb = [self.arrivee[0] - segment.depart[0] , self.arrivee[1] - segment.depart[1]]\n",
    "        apa = [self.depart[0] - segment.depart[0] , self.depart[1] - segment.depart[1]]\n",
    "        \n",
    "        c1 = produitvectoriel(ab,apbp) != 0\n",
    "        c2 = (produitvectoriel(ab,abp) * produitvectoriel(ab,aap))<=0\n",
    "        c3 = (produitvectoriel(apbp,apb) * produitvectoriel(apbp,apa))<=0\n",
    "        return(c1 and c2 and c3)"
   ]
  },
  {
   "cell_type": "code",
   "execution_count": 8,
   "metadata": {
    "collapsed": true
   },
   "outputs": [],
   "source": [
    "\n",
    "##### CLASSE TROU\n",
    "\n",
    "class Trou:\n",
    "    def __init__(self, array):\n",
    "        self.position = array.copy()\n",
    " \n"
   ]
  },
  {
   "cell_type": "code",
   "execution_count": 9,
   "metadata": {
    "collapsed": true
   },
   "outputs": [],
   "source": [
    "##### CLASSE BALLE\n",
    "\n",
    "class Balle:\n",
    "    def __init__(self, array):\n",
    "        self.position = array.copy()\n"
   ]
  },
  {
   "cell_type": "code",
   "execution_count": 10,
   "metadata": {
    "collapsed": true
   },
   "outputs": [],
   "source": [
    "##### CLASSE PARTIE\n",
    "\n",
    "class Partie:\n",
    "    def __init__(self, arrayballe,arraytrou, obstacles):\n",
    "        self.balle = Balle(arrayballe)\n",
    "        self.trou = Trou(arraytrou)\n",
    "        self.obstacles = obstacles\n",
    "        self.is_dead = False\n",
    "        self.nb_coups = 1\n",
    "        self.reached_goal = False \n",
    "        \n",
    "    def is_won(self):\n",
    "        distance = np.sqrt((self.trou.position[0] - self.balle.position[0])**2 + (self.trou.position[1] - self.balle.position[1])**2 )\n",
    "       # print(distance)\n",
    "        if distance < rt :\n",
    "            self.reached_goal = True\n",
    "    \n",
    "    def is_possible_move(self,segment_dep):\n",
    "        liste_obstacles_cross = []\n",
    "        for i in self.obstacles: # Pour tous les obstacles\n",
    "            if i.cross(segment_dep): # Si un segment_dep et i se croisent alors le move n'est pas possible\n",
    "                    liste_obstacles_cross.append(i)\n",
    "        if len(liste_obstacles_cross) > 0 :\n",
    "            liste_distances = []\n",
    "            liste_inter = []\n",
    "            for i in liste_obstacles_cross:\n",
    "                if (segment_dep.depart[0] - segment_dep.arrivee[0] == 0):\n",
    "                    a_i = (i.depart[1] - i.arrivee[1]) / (i.depart[0] - i.arrivee[0])\n",
    "                    b_i = i.depart[1] - a_i *i.depart[0]\n",
    "                    x_inter = segment_dep.depart[0]\n",
    "                    y_inter = a_i * x_inter + b_i\n",
    "                    liste_inter.append([x_inter , y_inter])\n",
    "                    \n",
    "                    \n",
    "                elif (i.depart[0] - i.arrivee[0] == 0):\n",
    "                    a_segment_dep = (segment_dep.depart[1] - segment_dep.arrivee[1]) / (segment_dep.depart[0] - segment_dep.arrivee[0])\n",
    "                    b_segment_dep = segment_dep.depart[1] - a_segment_dep * segment_dep.depart[0]\n",
    "                    x_inter = i.depart[0]\n",
    "                    y_inter = a_segment_dep * x_inter + b_segment_dep\n",
    "                    liste_inter.append([x_inter , y_inter])\n",
    "                \n",
    "                else :\n",
    "                    a_segment_dep = (segment_dep.depart[1] - segment_dep.arrivee[1]) / (segment_dep.depart[0] - segment_dep.arrivee[0])\n",
    "                    b_segment_dep = segment_dep.depart[1] - a_segment_dep * segment_dep.depart[0]\n",
    "                    a_i = (i.depart[1] - i.arrivee[1]) / (i.depart[0] - i.arrivee[0])\n",
    "                    b_i = i.depart[1] - a_i *i.depart[0]\n",
    "                    x_inter = (b_i - b_segment_dep) / (a_segment_dep - a_i)\n",
    "                    y_inter = a_i * x_inter + b_i\n",
    "                    liste_inter.append([x_inter , y_inter])\n",
    "                \n",
    "                liste_distances.append(np.sqrt( (x_inter - self.balle.position[0])**2 + (y_inter - self.balle.position[1])**2))\n",
    "            self.balle.position[0] = liste_inter[liste_distances.index(min(liste_distances))][0]\n",
    "            self.balle.position[1] = liste_inter[liste_distances.index(min(liste_distances))][1]\n",
    "                \n",
    "            return False\n",
    "        return True\n",
    "    \n",
    "    \n",
    "    def deplacement(self,vitesse_initiale): # La vitesse sera de la forme [ ||v|| , theta)]\n",
    "        distance =0.5*m/f*vitesse_initiale[0]**2\n",
    "       # print(vitesse_initiale[0])\n",
    "        segment_dep = Segment([self.balle.position[0],self.balle.position[1]],[self.balle.position[0] + np.cos(vitesse_initiale[1]) * distance,self.balle.position[1] + np.sin(vitesse_initiale[1]) * distance] )\n",
    "        self.is_won()\n",
    "        \n",
    "        if self.reached_goal:\n",
    "            return (self.balle.position[0],self.balle.position[1])\n",
    "        if self.is_possible_move(segment_dep):\n",
    "            self.nb_coups +=1\n",
    "            self.balle.position[0] += np.cos(vitesse_initiale[1]) * distance\n",
    "            self.balle.position[1] += np.sin(vitesse_initiale[1]) * distance  \n",
    "        else :\n",
    "            self.is_dead = True\n",
    "            #print(\"La balle est sur le mur\")\n",
    "        return (self.balle.position[0],self.balle.position[1])\n",
    "    \n",
    "    def plot_fitness(self):\n",
    "        mat = np.zeros((700,700))\n",
    "        for i in range(700):\n",
    "            for j in range(700):\n",
    "                mat[i,j] = np.sqrt((self.trou.position[0] - i)**2 + (self.trou.position[1] - j)**2 )\n",
    "        return mat\n",
    "\n",
    "\n",
    "\n"
   ]
  },
  {
   "cell_type": "code",
   "execution_count": 11,
   "metadata": {},
   "outputs": [
    {
     "data": {
      "text/plain": [
       "<matplotlib.figure.Figure at 0x11403ff60>"
      ]
     },
     "metadata": {},
     "output_type": "display_data"
    },
    {
     "data": {
      "image/png": "[encoded data removed]",
      "text/plain": [
       "<matplotlib.figure.Figure at 0x113adbf28>"
      ]
     },
     "metadata": {},
     "output_type": "display_data"
    },
    {
     "name": "stdout",
     "output_type": "stream",
     "text": [
      "Calculating generation : 1\n",
      "Calculating generation : 2\n",
      "Calculating generation : 3\n",
      "Calculating generation : 4\n",
      "Calculating generation : 5\n",
      "Calculating generation : 6\n",
      "Calculating generation : 7\n",
      "Calculating generation : 8\n",
      "Calculating generation : 9\n",
      "Calculating generation : 10\n",
      "Calculating generation : 11\n",
      "Calculating generation : 12\n",
      "Calculating generation : 13\n",
      "Calculating generation : 14\n",
      "Calculating generation : 15\n",
      "Calculating generation : 16\n",
      "Calculating generation : 17\n",
      "Calculating generation : 18\n",
      "Calculating generation : 19\n",
      "Calculating generation : 20\n"
     ]
    },
    {
     "data": {
      "image/png": "[encoded data removed]",
      "text/plain": [
       "<matplotlib.figure.Figure at 0x10af24be0>"
      ]
     },
     "metadata": {},
     "output_type": "display_data"
    },
    {
     "name": "stdout",
     "output_type": "stream",
     "text": [
      "[(180, 194, 241), (82, 59, 62), (182, 102, 85), (13, 215, 6), (108, 200, 48), (94, 82, 97), (31, 244, 24), (44, 43, 86), (56, 202, 215), (240, 110, 134), (180, 82, 112), (124, 223, 238), (233, 216, 148), (10, 2, 219), (83, 196, 125), (162, 214, 44), (18, 180, 182), (96, 88, 147), (112, 80, 211), (106, 205, 238), (164, 117, 170), (137, 211, 219), (34, 79, 86), (183, 131, 169), (57, 64, 240), (125, 27, 151), (213, 77, 178), (43, 211, 2), (242, 110, 238), (219, 88, 80), (190, 170, 54), (184, 208, 220), (129, 247, 140), (126, 189, 46), (114, 26, 69), (244, 59, 127), (125, 155, 169), (21, 139, 147), (114, 6, 197), (90, 206, 18), (157, 82, 106), (130, 158, 50), (64, 248, 34), (135, 11, 70), (167, 29, 117), (137, 164, 96), (3, 104, 232), (65, 61, 123), (71, 245, 136), (152, 29, 102), (33, 77, 250), (98, 112, 189), (232, 100, 90), (147, 227, 187), (57, 178, 77), (146, 203, 209), (219, 221, 250), (145, 86, 145), (120, 203, 17), (181, 151, 11), (117, 19, 109), (88, 124, 131), (63, 245, 117), (79, 203, 218), (130, 118, 10), (247, 134, 115), (48, 157, 120), (140, 95, 96), (172, 163, 128), (192, 245, 174), (51, 105, 239), (127, 32, 150), (138, 53, 151), (197, 29, 63), (80, 221, 220), (119, 125, 221), (247, 173, 61), (141, 159, 239), (249, 126, 225), (17, 212, 141), (32, 195, 139), (72, 9, 102), (240, 107, 10), (238, 177, 10), (68, 172, 106), (157, 219, 224), (70, 164, 238), (126, 218, 181), (52, 183, 175), (99, 174, 216), (133, 150, 210), (42, 24, 111), (71, 183, 58), (16, 146, 15), (187, 180, 50), (147, 35, 78), (169, 151, 97), (29, 39, 88), (50, 239, 18), (20, 165, 71)]\n"
     ]
    },
    {
     "ename": "KeyboardInterrupt",
     "evalue": "",
     "output_type": "error",
     "traceback": [
      "\u001b[0;31m---------------------------------------------------------------------------\u001b[0m",
      "\u001b[0;31mKeyboardInterrupt\u001b[0m                         Traceback (most recent call last)",
      "\u001b[0;32m<ipython-input-11-f6d9b30c1b3d>\u001b[0m in \u001b[0;36m<module>\u001b[0;34m()\u001b[0m\n\u001b[1;32m     44\u001b[0m \u001b[0;34m\u001b[0m\u001b[0m\n\u001b[1;32m     45\u001b[0m \u001b[0;34m\u001b[0m\u001b[0m\n\u001b[0;32m---> 46\u001b[0;31m \u001b[0mpopulation\u001b[0m\u001b[0;34m.\u001b[0m\u001b[0mprint_partie\u001b[0m\u001b[0;34m(\u001b[0m\u001b[0marray_trou\u001b[0m\u001b[0;34m,\u001b[0m \u001b[0marray_balle\u001b[0m\u001b[0;34m,\u001b[0m \u001b[0mobstacles\u001b[0m\u001b[0;34m,\u001b[0m \u001b[0mnbre_mouvements\u001b[0m\u001b[0;34m)\u001b[0m\u001b[0;34m\u001b[0m\u001b[0m\n\u001b[0m\u001b[1;32m     47\u001b[0m \u001b[0;34m\u001b[0m\u001b[0m\n\u001b[1;32m     48\u001b[0m \u001b[0;34m\u001b[0m\u001b[0m\n",
      "\u001b[0;32m<ipython-input-6-25dc0883348f>\u001b[0m in \u001b[0;36mprint_partie\u001b[0;34m(self, arraytrou, arrayballe, obstacles, nbre_mouvements)\u001b[0m\n\u001b[1;32m     81\u001b[0m             \u001b[0;32mfor\u001b[0m \u001b[0mi\u001b[0m \u001b[0;32min\u001b[0m \u001b[0mrange\u001b[0m\u001b[0;34m(\u001b[0m\u001b[0mnbre_mouvements\u001b[0m\u001b[0;34m)\u001b[0m\u001b[0;34m:\u001b[0m\u001b[0;34m\u001b[0m\u001b[0m\n\u001b[1;32m     82\u001b[0m                 \u001b[0mpygame\u001b[0m\u001b[0;34m.\u001b[0m\u001b[0mtime\u001b[0m\u001b[0;34m.\u001b[0m\u001b[0mdelay\u001b[0m\u001b[0;34m(\u001b[0m\u001b[0;36m1\u001b[0m\u001b[0;34m)\u001b[0m\u001b[0;34m\u001b[0m\u001b[0m\n\u001b[0;32m---> 83\u001b[0;31m                 \u001b[0;32mfor\u001b[0m \u001b[0mevent\u001b[0m \u001b[0;32min\u001b[0m \u001b[0mpygame\u001b[0m\u001b[0;34m.\u001b[0m\u001b[0mevent\u001b[0m\u001b[0;34m.\u001b[0m\u001b[0mget\u001b[0m\u001b[0;34m(\u001b[0m\u001b[0;34m)\u001b[0m\u001b[0;34m:\u001b[0m\u001b[0;34m\u001b[0m\u001b[0m\n\u001b[0m\u001b[1;32m     84\u001b[0m                     \u001b[0;32mif\u001b[0m \u001b[0mevent\u001b[0m\u001b[0;34m.\u001b[0m\u001b[0mtype\u001b[0m \u001b[0;34m==\u001b[0m \u001b[0mpygame\u001b[0m\u001b[0;34m.\u001b[0m\u001b[0mQUIT\u001b[0m\u001b[0;34m:\u001b[0m\u001b[0;34m\u001b[0m\u001b[0m\n\u001b[1;32m     85\u001b[0m                         \u001b[0mrun\u001b[0m \u001b[0;34m=\u001b[0m \u001b[0;32mFalse\u001b[0m\u001b[0;34m\u001b[0m\u001b[0m\n",
      "\u001b[0;31mKeyboardInterrupt\u001b[0m: "
     ]
    }
   ],
   "source": [
    "#DEFINITION DE LA PARTIE\n",
    "obstacles = []\n",
    "# On ajoute les murs\n",
    "obstacles.append(Segment([0,0],[0,700]))\n",
    "obstacles.append(Segment([0,0],[700,0]))\n",
    "obstacles.append(Segment([700,0],[700,700]))\n",
    "obstacles.append(Segment([0,700],[700,700]))\n",
    "# On ajoute les obstacles\n",
    "obstacles.append(Segment([300,300],[900,300]))\n",
    "#obstacles.append(Segment([0,400],[400,400]))\n",
    "\n",
    "\n",
    "array_balle = [500,500]\n",
    "array_trou = [100,100]\n",
    "population = Population(nb_pop, array_trou, array_balle, obstacles, nbre_mouvements)\n",
    "partie = Partie(array_balle,array_trou, obstacles)\n",
    "\n",
    "plt.figure(1)\n",
    "mat = partie.plot_fitness()\n",
    "im1 = plt.matshow(mat)\n",
    "plt.title(\"Fitness\")\n",
    "plt.colorbar(im1)\n",
    "plt.plot([])\n",
    "plt.show()\n",
    "\n",
    "\n",
    "sumfits = []\n",
    "for i in range(nb_gen):\n",
    "    for j in range(len(population.liste_joueur)):\n",
    "        population.liste_joueur[j].partie = Partie(array_balle,array_trou,obstacles) # On reset la partie\n",
    "        population.liste_joueur[j].liste_emplacements = [array_balle]\n",
    "    #if ((i+1)%10 == 0):\n",
    "    print(\"Calculating generation : \"+str(i+1))\n",
    "    population.step_ga(nb_pop, array_trou,array_balle,obstacles,nbre_mouvements)\n",
    "    population.liste_joueur = sorted(population.liste_joueur, key=lambda joueur: joueur.fitness, reverse = True)\n",
    "    fits = [population.liste_joueur[i].fitness for i in range(nb_pop)]\n",
    "    sumfits.append(sum(fits))\n",
    "    \n",
    "    \n",
    "    \n",
    "plt.figure(2)\n",
    "plt.plot(sumfits)\n",
    "plt.show()\n",
    "    \n",
    "\n",
    "population.print_partie(array_trou, array_balle, obstacles, nbre_mouvements)\n",
    "    \n",
    "    \n",
    "print(\"La simulation est terminée.\")\n",
    "    \n",
    "\n",
    "\n",
    "\n",
    "\n",
    "\n",
    "\n"
   ]
  },
  {
   "cell_type": "markdown",
   "metadata": {
    "collapsed": true
   },
   "source": [
    " "
   ]
  },
  {
   "cell_type": "code",
   "execution_count": null,
   "metadata": {
    "collapsed": true
   },
   "outputs": [],
   "source": []
  },
  {
   "cell_type": "code",
   "execution_count": null,
   "metadata": {
    "collapsed": true
   },
   "outputs": [],
   "source": []
  },
  {
   "cell_type": "code",
   "execution_count": null,
   "metadata": {
    "collapsed": true
   },
   "outputs": [],
   "source": []
  }
 ],
 "metadata": {
  "kernelspec": {
   "display_name": "Python 3",
   "language": "python",
   "name": "python3"
  },
  "language_info": {
   "codemirror_mode": {
    "name": "ipython",
    "version": 3
   },
   "file_extension": ".py",
   "mimetype": "text/x-python",
   "name": "python",
   "nbconvert_exporter": "python",
   "pygments_lexer": "ipython3",
   "version": "3.6.2"
  }
 },
 "nbformat": 4,
 "nbformat_minor": 2
}
